{
 "cells": [
  {
   "cell_type": "markdown",
   "metadata": {},
   "source": [
    "# WeatherPy\n",
    "----\n",
    "\n",
    "#### Note\n",
    "* Instructions have been included for each segment. You do not have to follow them exactly, but they are included to help you think through the steps."
   ]
  },
  {
   "cell_type": "code",
   "execution_count": 1,
   "metadata": {
    "scrolled": true
   },
   "outputs": [],
   "source": [
    "# Dependencies and Setup\n",
    "import matplotlib.pyplot as plt\n",
    "import pandas as pd\n",
    "import numpy as np\n",
    "import requests\n",
    "import time\n",
    "from scipy.stats import linregress\n",
    "\n",
    "# Import API key\n",
    "from api_keys import weather_api_key\n",
    "\n",
    "# Incorporated citipy to determine city based on latitude and longitude\n",
    "from citipy import citipy\n",
    "\n",
    "# Output File (CSV)\n",
    "output_data_file = \"..Instruction/output_data/worldcities.csv\"\n",
    "\n",
    "# Range of latitudes and longitudes\n",
    "lat_range = (-90, 90)\n",
    "lng_range = (-180, 180)"
   ]
  },
  {
   "cell_type": "markdown",
   "metadata": {},
   "source": [
    "## Generate Cities List"
   ]
  },
  {
   "cell_type": "code",
   "execution_count": 2,
   "metadata": {},
   "outputs": [
    {
     "data": {
      "text/plain": [
       "633"
      ]
     },
     "execution_count": 2,
     "metadata": {},
     "output_type": "execute_result"
    }
   ],
   "source": [
    "# List for holding lat_lngs and cities\n",
    "lat_lngs = []\n",
    "cities = []\n",
    "\n",
    "# Create a set of random lat and lng combinations\n",
    "lats = np.random.uniform(lat_range[0], lat_range[1], size=1500)\n",
    "lngs = np.random.uniform(lng_range[0], lng_range[1], size=1500)\n",
    "lat_lngs = zip(lats, lngs)\n",
    "\n",
    "# Identify nearest city for each lat, lng combination\n",
    "for lat_lng in lat_lngs:\n",
    "    city = citipy.nearest_city(lat_lng[0], lat_lng[1]).city_name\n",
    "    \n",
    "    # If the city is unique, then add it to a our cities list\n",
    "    if city not in cities:\n",
    "        cities.append(city)\n",
    "\n",
    "# Print the city count to confirm sufficient count\n",
    "len(cities)"
   ]
  },
  {
   "cell_type": "markdown",
   "metadata": {},
   "source": [
    "### Perform API Calls\n",
    "* Perform a weather check on each city using a series of successive API calls.\n",
    "* Include a print log of each city as it'sbeing processed (with the city number and city name).\n"
   ]
  },
  {
   "cell_type": "code",
   "execution_count": 3,
   "metadata": {},
   "outputs": [
    {
     "data": {
      "text/plain": [
       "'hermanus'"
      ]
     },
     "execution_count": 3,
     "metadata": {},
     "output_type": "execute_result"
    }
   ],
   "source": [
    "firstCity = cities[0]\n",
    "firstCity"
   ]
  },
  {
   "cell_type": "code",
   "execution_count": 13,
   "metadata": {},
   "outputs": [
    {
     "name": "stdout",
     "output_type": "stream",
     "text": [
      "0\n",
      "50\n",
      "100\n",
      "150\n",
      "200\n",
      "250\n",
      "300\n",
      "350\n",
      "400\n",
      "450\n",
      "500\n",
      "550\n",
      "600\n"
     ]
    }
   ],
   "source": [
    "units = \"imperial\"\n",
    "url = f\"http://api.openweathermap.org/data/2.5/weather?q={firstCity}&appid={weather_api_key}&units={units}\"\n",
    "\n",
    "lats = []\n",
    "longs = []\n",
    "temps = []\n",
    "humids = []\n",
    "pressures = []\n",
    "winds = []\n",
    "clouds = []\n",
    "citiesFound = []\n",
    "counter = 0\n",
    "\n",
    "for city in cities:\n",
    "    url = f\"http://api.openweathermap.org/data/2.5/weather?q={city}&appid={weather_api_key}&units={units}\"\n",
    "    try:\n",
    "        response = requests.get(url).json()\n",
    "        code = response[\"cod\"]\n",
    "        if code == 200:  \n",
    "            citiesFound.append(city)\n",
    "            lats.append(response[\"coord\"][\"lat\"])\n",
    "            longs.append(response[\"coord\"][\"lon\"])\n",
    "            temps.append(response[\"main\"][\"temp\"])\n",
    "            humids.append(response[\"main\"][\"humidity\"])\n",
    "            pressures.append(response[\"main\"][\"pressure\"])\n",
    "            winds.append(response[\"wind\"][\"speed\"])\n",
    "            clouds.append(response[\"clouds\"][\"all\"])\n",
    "        if counter % 50 == 0:\n",
    "            print(counter)\n",
    "    except Exception as e:\n",
    "        print(e)\n",
    "    counter += 1\n",
    "    time.sleep(1)"
   ]
  },
  {
   "cell_type": "code",
   "execution_count": 14,
   "metadata": {},
   "outputs": [
    {
     "data": {
      "text/html": [
       "<div>\n",
       "<style scoped>\n",
       "    .dataframe tbody tr th:only-of-type {\n",
       "        vertical-align: middle;\n",
       "    }\n",
       "\n",
       "    .dataframe tbody tr th {\n",
       "        vertical-align: top;\n",
       "    }\n",
       "\n",
       "    .dataframe thead th {\n",
       "        text-align: right;\n",
       "    }\n",
       "</style>\n",
       "<table border=\"1\" class=\"dataframe\">\n",
       "  <thead>\n",
       "    <tr style=\"text-align: right;\">\n",
       "      <th></th>\n",
       "      <th>cities</th>\n",
       "      <th>latitude</th>\n",
       "      <th>longitude</th>\n",
       "      <th>temperature</th>\n",
       "      <th>humidity</th>\n",
       "      <th>pressure</th>\n",
       "      <th>wind_speed</th>\n",
       "      <th>cloudiness</th>\n",
       "    </tr>\n",
       "  </thead>\n",
       "  <tbody>\n",
       "    <tr>\n",
       "      <th>0</th>\n",
       "      <td>hermanus</td>\n",
       "      <td>-34.42</td>\n",
       "      <td>19.23</td>\n",
       "      <td>61.00</td>\n",
       "      <td>52</td>\n",
       "      <td>1017</td>\n",
       "      <td>1.01</td>\n",
       "      <td>13</td>\n",
       "    </tr>\n",
       "    <tr>\n",
       "      <th>1</th>\n",
       "      <td>belmonte</td>\n",
       "      <td>-15.86</td>\n",
       "      <td>-38.88</td>\n",
       "      <td>69.80</td>\n",
       "      <td>94</td>\n",
       "      <td>1016</td>\n",
       "      <td>6.93</td>\n",
       "      <td>20</td>\n",
       "    </tr>\n",
       "    <tr>\n",
       "      <th>2</th>\n",
       "      <td>chokurdakh</td>\n",
       "      <td>70.63</td>\n",
       "      <td>147.92</td>\n",
       "      <td>18.97</td>\n",
       "      <td>96</td>\n",
       "      <td>1003</td>\n",
       "      <td>4.63</td>\n",
       "      <td>13</td>\n",
       "    </tr>\n",
       "    <tr>\n",
       "      <th>3</th>\n",
       "      <td>provideniya</td>\n",
       "      <td>64.38</td>\n",
       "      <td>-173.30</td>\n",
       "      <td>24.80</td>\n",
       "      <td>73</td>\n",
       "      <td>1010</td>\n",
       "      <td>4.47</td>\n",
       "      <td>90</td>\n",
       "    </tr>\n",
       "    <tr>\n",
       "      <th>4</th>\n",
       "      <td>longyearbyen</td>\n",
       "      <td>78.22</td>\n",
       "      <td>15.64</td>\n",
       "      <td>32.00</td>\n",
       "      <td>95</td>\n",
       "      <td>1010</td>\n",
       "      <td>21.92</td>\n",
       "      <td>90</td>\n",
       "    </tr>\n",
       "  </tbody>\n",
       "</table>\n",
       "</div>"
      ],
      "text/plain": [
       "         cities  latitude  longitude  temperature  humidity  pressure  \\\n",
       "0      hermanus    -34.42      19.23        61.00        52      1017   \n",
       "1      belmonte    -15.86     -38.88        69.80        94      1016   \n",
       "2    chokurdakh     70.63     147.92        18.97        96      1003   \n",
       "3   provideniya     64.38    -173.30        24.80        73      1010   \n",
       "4  longyearbyen     78.22      15.64        32.00        95      1010   \n",
       "\n",
       "   wind_speed  cloudiness  \n",
       "0        1.01          13  \n",
       "1        6.93          20  \n",
       "2        4.63          13  \n",
       "3        4.47          90  \n",
       "4       21.92          90  "
      ]
     },
     "execution_count": 14,
     "metadata": {},
     "output_type": "execute_result"
    }
   ],
   "source": [
    "df = pd.DataFrame()\n",
    "df[\"cities\"] = citiesFound\n",
    "df[\"latitude\"] = lats\n",
    "df[\"longitude\"] = longs\n",
    "df[\"temperature\"] = temps\n",
    "df[\"humidity\"] = humids\n",
    "df[\"pressure\"] = pressures\n",
    "df[\"wind_speed\"] = winds\n",
    "df[\"cloudiness\"] = clouds\n",
    "\n",
    "df.head()"
   ]
  },
  {
   "cell_type": "markdown",
   "metadata": {},
   "source": [
    "### Convert Raw Data to DataFrame\n",
    "* Export the city data into a .csv.\n",
    "* Display the DataFrame"
   ]
  },
  {
   "cell_type": "code",
   "execution_count": 15,
   "metadata": {},
   "outputs": [
    {
     "data": {
      "text/html": [
       "<div>\n",
       "<style scoped>\n",
       "    .dataframe tbody tr th:only-of-type {\n",
       "        vertical-align: middle;\n",
       "    }\n",
       "\n",
       "    .dataframe tbody tr th {\n",
       "        vertical-align: top;\n",
       "    }\n",
       "\n",
       "    .dataframe thead th {\n",
       "        text-align: right;\n",
       "    }\n",
       "</style>\n",
       "<table border=\"1\" class=\"dataframe\">\n",
       "  <thead>\n",
       "    <tr style=\"text-align: right;\">\n",
       "      <th></th>\n",
       "      <th>latitude</th>\n",
       "      <th>longitude</th>\n",
       "      <th>temperature</th>\n",
       "      <th>humidity</th>\n",
       "      <th>pressure</th>\n",
       "      <th>wind_speed</th>\n",
       "      <th>cloudiness</th>\n",
       "    </tr>\n",
       "  </thead>\n",
       "  <tbody>\n",
       "    <tr>\n",
       "      <th>count</th>\n",
       "      <td>590.000000</td>\n",
       "      <td>590.000000</td>\n",
       "      <td>590.000000</td>\n",
       "      <td>590.000000</td>\n",
       "      <td>590.000000</td>\n",
       "      <td>590.00000</td>\n",
       "      <td>590.000000</td>\n",
       "    </tr>\n",
       "    <tr>\n",
       "      <th>mean</th>\n",
       "      <td>20.235169</td>\n",
       "      <td>15.225695</td>\n",
       "      <td>62.575373</td>\n",
       "      <td>66.532203</td>\n",
       "      <td>1012.766102</td>\n",
       "      <td>8.26839</td>\n",
       "      <td>52.803390</td>\n",
       "    </tr>\n",
       "    <tr>\n",
       "      <th>std</th>\n",
       "      <td>32.847813</td>\n",
       "      <td>85.815373</td>\n",
       "      <td>19.210976</td>\n",
       "      <td>23.198665</td>\n",
       "      <td>6.975792</td>\n",
       "      <td>5.66327</td>\n",
       "      <td>37.520005</td>\n",
       "    </tr>\n",
       "    <tr>\n",
       "      <th>min</th>\n",
       "      <td>-54.800000</td>\n",
       "      <td>-179.170000</td>\n",
       "      <td>-4.000000</td>\n",
       "      <td>6.000000</td>\n",
       "      <td>965.000000</td>\n",
       "      <td>0.40000</td>\n",
       "      <td>0.000000</td>\n",
       "    </tr>\n",
       "    <tr>\n",
       "      <th>25%</th>\n",
       "      <td>-6.922500</td>\n",
       "      <td>-57.395000</td>\n",
       "      <td>50.130000</td>\n",
       "      <td>52.000000</td>\n",
       "      <td>1009.000000</td>\n",
       "      <td>3.78000</td>\n",
       "      <td>16.500000</td>\n",
       "    </tr>\n",
       "    <tr>\n",
       "      <th>50%</th>\n",
       "      <td>24.970000</td>\n",
       "      <td>21.420000</td>\n",
       "      <td>64.515000</td>\n",
       "      <td>71.000000</td>\n",
       "      <td>1013.000000</td>\n",
       "      <td>6.93000</td>\n",
       "      <td>60.500000</td>\n",
       "    </tr>\n",
       "    <tr>\n",
       "      <th>75%</th>\n",
       "      <td>47.440000</td>\n",
       "      <td>80.515000</td>\n",
       "      <td>77.030000</td>\n",
       "      <td>85.750000</td>\n",
       "      <td>1017.000000</td>\n",
       "      <td>11.41000</td>\n",
       "      <td>90.000000</td>\n",
       "    </tr>\n",
       "    <tr>\n",
       "      <th>max</th>\n",
       "      <td>78.220000</td>\n",
       "      <td>179.320000</td>\n",
       "      <td>100.080000</td>\n",
       "      <td>100.000000</td>\n",
       "      <td>1053.000000</td>\n",
       "      <td>29.97000</td>\n",
       "      <td>100.000000</td>\n",
       "    </tr>\n",
       "  </tbody>\n",
       "</table>\n",
       "</div>"
      ],
      "text/plain": [
       "         latitude   longitude  temperature    humidity     pressure  \\\n",
       "count  590.000000  590.000000   590.000000  590.000000   590.000000   \n",
       "mean    20.235169   15.225695    62.575373   66.532203  1012.766102   \n",
       "std     32.847813   85.815373    19.210976   23.198665     6.975792   \n",
       "min    -54.800000 -179.170000    -4.000000    6.000000   965.000000   \n",
       "25%     -6.922500  -57.395000    50.130000   52.000000  1009.000000   \n",
       "50%     24.970000   21.420000    64.515000   71.000000  1013.000000   \n",
       "75%     47.440000   80.515000    77.030000   85.750000  1017.000000   \n",
       "max     78.220000  179.320000   100.080000  100.000000  1053.000000   \n",
       "\n",
       "       wind_speed  cloudiness  \n",
       "count   590.00000  590.000000  \n",
       "mean      8.26839   52.803390  \n",
       "std       5.66327   37.520005  \n",
       "min       0.40000    0.000000  \n",
       "25%       3.78000   16.500000  \n",
       "50%       6.93000   60.500000  \n",
       "75%      11.41000   90.000000  \n",
       "max      29.97000  100.000000  "
      ]
     },
     "execution_count": 15,
     "metadata": {},
     "output_type": "execute_result"
    }
   ],
   "source": [
    "df.describe()"
   ]
  },
  {
   "cell_type": "markdown",
   "metadata": {},
   "source": [
    "## Inspect the data and remove the cities where the humidity > 100%.\n",
    "----\n",
    "Skip this step if there are no cities that have humidity > 100%. "
   ]
  },
  {
   "cell_type": "code",
   "execution_count": 16,
   "metadata": {},
   "outputs": [
    {
     "data": {
      "text/html": [
       "<div>\n",
       "<style scoped>\n",
       "    .dataframe tbody tr th:only-of-type {\n",
       "        vertical-align: middle;\n",
       "    }\n",
       "\n",
       "    .dataframe tbody tr th {\n",
       "        vertical-align: top;\n",
       "    }\n",
       "\n",
       "    .dataframe thead th {\n",
       "        text-align: right;\n",
       "    }\n",
       "</style>\n",
       "<table border=\"1\" class=\"dataframe\">\n",
       "  <thead>\n",
       "    <tr style=\"text-align: right;\">\n",
       "      <th></th>\n",
       "      <th>cities</th>\n",
       "      <th>latitude</th>\n",
       "      <th>longitude</th>\n",
       "      <th>temperature</th>\n",
       "      <th>humidity</th>\n",
       "      <th>pressure</th>\n",
       "      <th>wind_speed</th>\n",
       "      <th>cloudiness</th>\n",
       "    </tr>\n",
       "  </thead>\n",
       "  <tbody>\n",
       "    <tr>\n",
       "      <th>0</th>\n",
       "      <td>hermanus</td>\n",
       "      <td>-34.42</td>\n",
       "      <td>19.23</td>\n",
       "      <td>61.00</td>\n",
       "      <td>52</td>\n",
       "      <td>1017</td>\n",
       "      <td>1.01</td>\n",
       "      <td>13</td>\n",
       "    </tr>\n",
       "    <tr>\n",
       "      <th>1</th>\n",
       "      <td>belmonte</td>\n",
       "      <td>-15.86</td>\n",
       "      <td>-38.88</td>\n",
       "      <td>69.80</td>\n",
       "      <td>94</td>\n",
       "      <td>1016</td>\n",
       "      <td>6.93</td>\n",
       "      <td>20</td>\n",
       "    </tr>\n",
       "    <tr>\n",
       "      <th>2</th>\n",
       "      <td>chokurdakh</td>\n",
       "      <td>70.63</td>\n",
       "      <td>147.92</td>\n",
       "      <td>18.97</td>\n",
       "      <td>96</td>\n",
       "      <td>1003</td>\n",
       "      <td>4.63</td>\n",
       "      <td>13</td>\n",
       "    </tr>\n",
       "    <tr>\n",
       "      <th>3</th>\n",
       "      <td>provideniya</td>\n",
       "      <td>64.38</td>\n",
       "      <td>-173.30</td>\n",
       "      <td>24.80</td>\n",
       "      <td>73</td>\n",
       "      <td>1010</td>\n",
       "      <td>4.47</td>\n",
       "      <td>90</td>\n",
       "    </tr>\n",
       "    <tr>\n",
       "      <th>4</th>\n",
       "      <td>longyearbyen</td>\n",
       "      <td>78.22</td>\n",
       "      <td>15.64</td>\n",
       "      <td>32.00</td>\n",
       "      <td>95</td>\n",
       "      <td>1010</td>\n",
       "      <td>21.92</td>\n",
       "      <td>90</td>\n",
       "    </tr>\n",
       "  </tbody>\n",
       "</table>\n",
       "</div>"
      ],
      "text/plain": [
       "         cities  latitude  longitude  temperature  humidity  pressure  \\\n",
       "0      hermanus    -34.42      19.23        61.00        52      1017   \n",
       "1      belmonte    -15.86     -38.88        69.80        94      1016   \n",
       "2    chokurdakh     70.63     147.92        18.97        96      1003   \n",
       "3   provideniya     64.38    -173.30        24.80        73      1010   \n",
       "4  longyearbyen     78.22      15.64        32.00        95      1010   \n",
       "\n",
       "   wind_speed  cloudiness  \n",
       "0        1.01          13  \n",
       "1        6.93          20  \n",
       "2        4.63          13  \n",
       "3        4.47          90  \n",
       "4       21.92          90  "
      ]
     },
     "execution_count": 16,
     "metadata": {},
     "output_type": "execute_result"
    }
   ],
   "source": [
    "mask = df.humidity <= 100\n",
    "df_sub = df.loc[mask].reset_index(drop=True)\n",
    "\n",
    "df_sub.head()"
   ]
  },
  {
   "cell_type": "code",
   "execution_count": 17,
   "metadata": {},
   "outputs": [],
   "source": [
    "# Export the City_Data into a csv\n",
    "df_sub.to_csv(\"weatherData.csv\", index=False)"
   ]
  },
  {
   "cell_type": "markdown",
   "metadata": {},
   "source": [
    "## Plotting the Data\n",
    "* Use proper labeling of the plots using plot titles (including date of analysis) and axes labels.\n",
    "* Save the plotted figures as .pngs."
   ]
  },
  {
   "cell_type": "code",
   "execution_count": 20,
   "metadata": {},
   "outputs": [
    {
     "data": {
      "text/html": [
       "<div>\n",
       "<style scoped>\n",
       "    .dataframe tbody tr th:only-of-type {\n",
       "        vertical-align: middle;\n",
       "    }\n",
       "\n",
       "    .dataframe tbody tr th {\n",
       "        vertical-align: top;\n",
       "    }\n",
       "\n",
       "    .dataframe thead th {\n",
       "        text-align: right;\n",
       "    }\n",
       "</style>\n",
       "<table border=\"1\" class=\"dataframe\">\n",
       "  <thead>\n",
       "    <tr style=\"text-align: right;\">\n",
       "      <th></th>\n",
       "      <th>cities</th>\n",
       "      <th>latitude</th>\n",
       "      <th>longitude</th>\n",
       "      <th>temperature</th>\n",
       "      <th>humidity</th>\n",
       "      <th>pressure</th>\n",
       "      <th>wind_speed</th>\n",
       "      <th>cloudiness</th>\n",
       "    </tr>\n",
       "  </thead>\n",
       "  <tbody>\n",
       "    <tr>\n",
       "      <th>0</th>\n",
       "      <td>hermanus</td>\n",
       "      <td>-34.42</td>\n",
       "      <td>19.23</td>\n",
       "      <td>61.00</td>\n",
       "      <td>52</td>\n",
       "      <td>1017</td>\n",
       "      <td>1.01</td>\n",
       "      <td>13</td>\n",
       "    </tr>\n",
       "    <tr>\n",
       "      <th>1</th>\n",
       "      <td>belmonte</td>\n",
       "      <td>-15.86</td>\n",
       "      <td>-38.88</td>\n",
       "      <td>69.80</td>\n",
       "      <td>94</td>\n",
       "      <td>1016</td>\n",
       "      <td>6.93</td>\n",
       "      <td>20</td>\n",
       "    </tr>\n",
       "    <tr>\n",
       "      <th>2</th>\n",
       "      <td>chokurdakh</td>\n",
       "      <td>70.63</td>\n",
       "      <td>147.92</td>\n",
       "      <td>18.97</td>\n",
       "      <td>96</td>\n",
       "      <td>1003</td>\n",
       "      <td>4.63</td>\n",
       "      <td>13</td>\n",
       "    </tr>\n",
       "    <tr>\n",
       "      <th>3</th>\n",
       "      <td>provideniya</td>\n",
       "      <td>64.38</td>\n",
       "      <td>-173.30</td>\n",
       "      <td>24.80</td>\n",
       "      <td>73</td>\n",
       "      <td>1010</td>\n",
       "      <td>4.47</td>\n",
       "      <td>90</td>\n",
       "    </tr>\n",
       "    <tr>\n",
       "      <th>4</th>\n",
       "      <td>longyearbyen</td>\n",
       "      <td>78.22</td>\n",
       "      <td>15.64</td>\n",
       "      <td>32.00</td>\n",
       "      <td>95</td>\n",
       "      <td>1010</td>\n",
       "      <td>21.92</td>\n",
       "      <td>90</td>\n",
       "    </tr>\n",
       "  </tbody>\n",
       "</table>\n",
       "</div>"
      ],
      "text/plain": [
       "         cities  latitude  longitude  temperature  humidity  pressure  \\\n",
       "0      hermanus    -34.42      19.23        61.00        52      1017   \n",
       "1      belmonte    -15.86     -38.88        69.80        94      1016   \n",
       "2    chokurdakh     70.63     147.92        18.97        96      1003   \n",
       "3   provideniya     64.38    -173.30        24.80        73      1010   \n",
       "4  longyearbyen     78.22      15.64        32.00        95      1010   \n",
       "\n",
       "   wind_speed  cloudiness  \n",
       "0        1.01          13  \n",
       "1        6.93          20  \n",
       "2        4.63          13  \n",
       "3        4.47          90  \n",
       "4       21.92          90  "
      ]
     },
     "execution_count": 20,
     "metadata": {},
     "output_type": "execute_result"
    }
   ],
   "source": [
    "df = pd.read_csv(\"weatherData.csv\")\n",
    "df.head()"
   ]
  },
  {
   "cell_type": "markdown",
   "metadata": {},
   "source": [
    "## Latitude vs. Temperature Plot"
   ]
  },
  {
   "cell_type": "code",
   "execution_count": 27,
   "metadata": {
    "scrolled": true
   },
   "outputs": [
    {
     "data": {
      "image/png": "[encoded data removed]",
      "text/plain": [
       "<Figure size 432x288 with 1 Axes>"
      ]
     },
     "metadata": {
      "needs_background": "light"
     },
     "output_type": "display_data"
    }
   ],
   "source": [
    "plt.scatter(df.latitude, df.temperature, color=\"green\")\n",
    "plt.xlabel(\"latitude\")\n",
    "plt.ylabel(\"termperature\")\n",
    "plt.title(\"Latitude vs Temperature\", fontsize=18, fontweight=\"bold\")\n",
    "\n",
    "plt.show()"
   ]
  },
  {
   "cell_type": "markdown",
   "metadata": {},
   "source": [
    "## Latitude vs. Humidity Plot"
   ]
  },
  {
   "cell_type": "code",
   "execution_count": 31,
   "metadata": {},
   "outputs": [
    {
     "data": {
      "image/png": "[encoded data removed]",
      "text/plain": [
       "<Figure size 432x288 with 1 Axes>"
      ]
     },
     "metadata": {
      "needs_background": "light"
     },
     "output_type": "display_data"
    }
   ],
   "source": [
    "plt.scatter(df.latitude, df.humidity, color=\"green\")\n",
    "plt.xlabel(\"latitude\")\n",
    "plt.ylabel(\"humidity\")\n",
    "plt.title(\"Latitude vs Humidity\", fontsize=18, fontweight=\"bold\")\n",
    "\n",
    "plt.show()"
   ]
  },
  {
   "cell_type": "markdown",
   "metadata": {},
   "source": [
    "## Latitude vs. Cloudiness Plot"
   ]
  },
  {
   "cell_type": "code",
   "execution_count": 30,
   "metadata": {},
   "outputs": [
    {
     "data": {
      "image/png": "[encoded data removed]",
      "text/plain": [
       "<Figure size 432x288 with 1 Axes>"
      ]
     },
     "metadata": {
      "needs_background": "light"
     },
     "output_type": "display_data"
    }
   ],
   "source": [
    "plt.scatter(df.latitude, df.cloudiness, color=\"green\")\n",
    "plt.xlabel(\"latitude\")\n",
    "plt.ylabel(\"clodiness\")\n",
    "plt.title(\"Latitude vs Cloudiness\", fontsize=18, fontweight=\"bold\")\n",
    "\n",
    "plt.show()"
   ]
  },
  {
   "cell_type": "markdown",
   "metadata": {},
   "source": [
    "## Latitude vs. Wind Speed Plot"
   ]
  },
  {
   "cell_type": "code",
   "execution_count": 29,
   "metadata": {},
   "outputs": [
    {
     "data": {
      "image/png": "[encoded data removed]",
      "text/plain": [
       "<Figure size 432x288 with 1 Axes>"
      ]
     },
     "metadata": {
      "needs_background": "light"
     },
     "output_type": "display_data"
    }
   ],
   "source": [
    "plt.scatter(df.latitude, df.wind_speed, color=\"green\")\n",
    "plt.xlabel(\"latitude\")\n",
    "plt.ylabel(\"wind speed\")\n",
    "plt.title(\"Latitude vs Wind Speed\", fontsize=18, fontweight=\"bold\")\n",
    "\n",
    "plt.show()"
   ]
  },
  {
   "cell_type": "markdown",
   "metadata": {},
   "source": [
    "## Linear Regression"
   ]
  },
  {
   "cell_type": "code",
   "execution_count": null,
   "metadata": {},
   "outputs": [],
   "source": [
    "# OPTIONAL: Create a function to create Linear Regression plots"
   ]
  },
  {
   "cell_type": "code",
   "execution_count": null,
   "metadata": {},
   "outputs": [],
   "source": [
    "# Create Northern and Southern Hemisphere DataFrames"
   ]
  },
  {
   "cell_type": "code",
   "execution_count": 34,
   "metadata": {},
   "outputs": [
    {
     "data": {
      "text/html": [
       "<div>\n",
       "<style scoped>\n",
       "    .dataframe tbody tr th:only-of-type {\n",
       "        vertical-align: middle;\n",
       "    }\n",
       "\n",
       "    .dataframe tbody tr th {\n",
       "        vertical-align: top;\n",
       "    }\n",
       "\n",
       "    .dataframe thead th {\n",
       "        text-align: right;\n",
       "    }\n",
       "</style>\n",
       "<table border=\"1\" class=\"dataframe\">\n",
       "  <thead>\n",
       "    <tr style=\"text-align: right;\">\n",
       "      <th></th>\n",
       "      <th>cities</th>\n",
       "      <th>latitude</th>\n",
       "      <th>longitude</th>\n",
       "      <th>temperature</th>\n",
       "      <th>humidity</th>\n",
       "      <th>pressure</th>\n",
       "      <th>wind_speed</th>\n",
       "      <th>cloudiness</th>\n",
       "    </tr>\n",
       "  </thead>\n",
       "  <tbody>\n",
       "    <tr>\n",
       "      <th>0</th>\n",
       "      <td>chokurdakh</td>\n",
       "      <td>70.63</td>\n",
       "      <td>147.92</td>\n",
       "      <td>18.97</td>\n",
       "      <td>96</td>\n",
       "      <td>1003</td>\n",
       "      <td>4.63</td>\n",
       "      <td>13</td>\n",
       "    </tr>\n",
       "    <tr>\n",
       "      <th>1</th>\n",
       "      <td>provideniya</td>\n",
       "      <td>64.38</td>\n",
       "      <td>-173.30</td>\n",
       "      <td>24.80</td>\n",
       "      <td>73</td>\n",
       "      <td>1010</td>\n",
       "      <td>4.47</td>\n",
       "      <td>90</td>\n",
       "    </tr>\n",
       "    <tr>\n",
       "      <th>2</th>\n",
       "      <td>longyearbyen</td>\n",
       "      <td>78.22</td>\n",
       "      <td>15.64</td>\n",
       "      <td>32.00</td>\n",
       "      <td>95</td>\n",
       "      <td>1010</td>\n",
       "      <td>21.92</td>\n",
       "      <td>90</td>\n",
       "    </tr>\n",
       "    <tr>\n",
       "      <th>3</th>\n",
       "      <td>kumukh</td>\n",
       "      <td>42.17</td>\n",
       "      <td>47.12</td>\n",
       "      <td>54.66</td>\n",
       "      <td>22</td>\n",
       "      <td>1015</td>\n",
       "      <td>1.77</td>\n",
       "      <td>0</td>\n",
       "    </tr>\n",
       "    <tr>\n",
       "      <th>4</th>\n",
       "      <td>khatanga</td>\n",
       "      <td>71.97</td>\n",
       "      <td>102.50</td>\n",
       "      <td>19.63</td>\n",
       "      <td>95</td>\n",
       "      <td>1016</td>\n",
       "      <td>6.33</td>\n",
       "      <td>90</td>\n",
       "    </tr>\n",
       "  </tbody>\n",
       "</table>\n",
       "</div>"
      ],
      "text/plain": [
       "         cities  latitude  longitude  temperature  humidity  pressure  \\\n",
       "0    chokurdakh     70.63     147.92        18.97        96      1003   \n",
       "1   provideniya     64.38    -173.30        24.80        73      1010   \n",
       "2  longyearbyen     78.22      15.64        32.00        95      1010   \n",
       "3        kumukh     42.17      47.12        54.66        22      1015   \n",
       "4      khatanga     71.97     102.50        19.63        95      1016   \n",
       "\n",
       "   wind_speed  cloudiness  \n",
       "0        4.63          13  \n",
       "1        4.47          90  \n",
       "2       21.92          90  \n",
       "3        1.77           0  \n",
       "4        6.33          90  "
      ]
     },
     "execution_count": 34,
     "metadata": {},
     "output_type": "execute_result"
    }
   ],
   "source": [
    "northenHemi_mask = df.latitude >= 0\n",
    "df_north = df.loc[northenHemi_mask].reset_index(drop=True)\n",
    "\n",
    "df_north.head()"
   ]
  },
  {
   "cell_type": "code",
   "execution_count": 35,
   "metadata": {},
   "outputs": [
    {
     "data": {
      "text/html": [
       "<div>\n",
       "<style scoped>\n",
       "    .dataframe tbody tr th:only-of-type {\n",
       "        vertical-align: middle;\n",
       "    }\n",
       "\n",
       "    .dataframe tbody tr th {\n",
       "        vertical-align: top;\n",
       "    }\n",
       "\n",
       "    .dataframe thead th {\n",
       "        text-align: right;\n",
       "    }\n",
       "</style>\n",
       "<table border=\"1\" class=\"dataframe\">\n",
       "  <thead>\n",
       "    <tr style=\"text-align: right;\">\n",
       "      <th></th>\n",
       "      <th>cities</th>\n",
       "      <th>latitude</th>\n",
       "      <th>longitude</th>\n",
       "      <th>temperature</th>\n",
       "      <th>humidity</th>\n",
       "      <th>pressure</th>\n",
       "      <th>wind_speed</th>\n",
       "      <th>cloudiness</th>\n",
       "    </tr>\n",
       "  </thead>\n",
       "  <tbody>\n",
       "    <tr>\n",
       "      <th>0</th>\n",
       "      <td>hermanus</td>\n",
       "      <td>-34.42</td>\n",
       "      <td>19.23</td>\n",
       "      <td>61.0</td>\n",
       "      <td>52</td>\n",
       "      <td>1017</td>\n",
       "      <td>1.01</td>\n",
       "      <td>13</td>\n",
       "    </tr>\n",
       "    <tr>\n",
       "      <th>1</th>\n",
       "      <td>belmonte</td>\n",
       "      <td>-15.86</td>\n",
       "      <td>-38.88</td>\n",
       "      <td>69.8</td>\n",
       "      <td>94</td>\n",
       "      <td>1016</td>\n",
       "      <td>6.93</td>\n",
       "      <td>20</td>\n",
       "    </tr>\n",
       "    <tr>\n",
       "      <th>2</th>\n",
       "      <td>olinda</td>\n",
       "      <td>-8.01</td>\n",
       "      <td>-34.86</td>\n",
       "      <td>77.0</td>\n",
       "      <td>94</td>\n",
       "      <td>1013</td>\n",
       "      <td>4.70</td>\n",
       "      <td>90</td>\n",
       "    </tr>\n",
       "    <tr>\n",
       "      <th>3</th>\n",
       "      <td>ushuaia</td>\n",
       "      <td>-54.80</td>\n",
       "      <td>-68.30</td>\n",
       "      <td>44.6</td>\n",
       "      <td>87</td>\n",
       "      <td>1004</td>\n",
       "      <td>3.40</td>\n",
       "      <td>75</td>\n",
       "    </tr>\n",
       "    <tr>\n",
       "      <th>4</th>\n",
       "      <td>punta arenas</td>\n",
       "      <td>-53.15</td>\n",
       "      <td>-70.92</td>\n",
       "      <td>35.6</td>\n",
       "      <td>93</td>\n",
       "      <td>1007</td>\n",
       "      <td>6.93</td>\n",
       "      <td>67</td>\n",
       "    </tr>\n",
       "  </tbody>\n",
       "</table>\n",
       "</div>"
      ],
      "text/plain": [
       "         cities  latitude  longitude  temperature  humidity  pressure  \\\n",
       "0      hermanus    -34.42      19.23         61.0        52      1017   \n",
       "1      belmonte    -15.86     -38.88         69.8        94      1016   \n",
       "2        olinda     -8.01     -34.86         77.0        94      1013   \n",
       "3       ushuaia    -54.80     -68.30         44.6        87      1004   \n",
       "4  punta arenas    -53.15     -70.92         35.6        93      1007   \n",
       "\n",
       "   wind_speed  cloudiness  \n",
       "0        1.01          13  \n",
       "1        6.93          20  \n",
       "2        4.70          90  \n",
       "3        3.40          75  \n",
       "4        6.93          67  "
      ]
     },
     "execution_count": 35,
     "metadata": {},
     "output_type": "execute_result"
    }
   ],
   "source": [
    "southernHemi_mask = df.latitude < 0\n",
    "df_south = df.loc[southernHemi_mask].reset_index(drop=True)\n",
    "\n",
    "df_south.head()"
   ]
  },
  {
   "cell_type": "code",
   "execution_count": null,
   "metadata": {},
   "outputs": [],
   "source": [
    "import seaborn as sn"
   ]
  },
  {
   "cell_type": "code",
   "execution_count": 37,
   "metadata": {},
   "outputs": [
    {
     "data": {
      "text/html": [
       "<div>\n",
       "<style scoped>\n",
       "    .dataframe tbody tr th:only-of-type {\n",
       "        vertical-align: middle;\n",
       "    }\n",
       "\n",
       "    .dataframe tbody tr th {\n",
       "        vertical-align: top;\n",
       "    }\n",
       "\n",
       "    .dataframe thead th {\n",
       "        text-align: right;\n",
       "    }\n",
       "</style>\n",
       "<table border=\"1\" class=\"dataframe\">\n",
       "  <thead>\n",
       "    <tr style=\"text-align: right;\">\n",
       "      <th></th>\n",
       "      <th>latitude</th>\n",
       "      <th>longitude</th>\n",
       "      <th>temperature</th>\n",
       "      <th>humidity</th>\n",
       "      <th>pressure</th>\n",
       "      <th>wind_speed</th>\n",
       "      <th>cloudiness</th>\n",
       "    </tr>\n",
       "  </thead>\n",
       "  <tbody>\n",
       "    <tr>\n",
       "      <th>latitude</th>\n",
       "      <td>1.000000</td>\n",
       "      <td>-0.015512</td>\n",
       "      <td>-0.864766</td>\n",
       "      <td>0.208493</td>\n",
       "      <td>-0.237231</td>\n",
       "      <td>0.167561</td>\n",
       "      <td>0.084798</td>\n",
       "    </tr>\n",
       "    <tr>\n",
       "      <th>longitude</th>\n",
       "      <td>-0.015512</td>\n",
       "      <td>1.000000</td>\n",
       "      <td>0.195760</td>\n",
       "      <td>-0.204416</td>\n",
       "      <td>-0.270358</td>\n",
       "      <td>0.078688</td>\n",
       "      <td>0.050028</td>\n",
       "    </tr>\n",
       "    <tr>\n",
       "      <th>temperature</th>\n",
       "      <td>-0.864766</td>\n",
       "      <td>0.195760</td>\n",
       "      <td>1.000000</td>\n",
       "      <td>-0.488433</td>\n",
       "      <td>0.061090</td>\n",
       "      <td>-0.080654</td>\n",
       "      <td>-0.136033</td>\n",
       "    </tr>\n",
       "    <tr>\n",
       "      <th>humidity</th>\n",
       "      <td>0.208493</td>\n",
       "      <td>-0.204416</td>\n",
       "      <td>-0.488433</td>\n",
       "      <td>1.000000</td>\n",
       "      <td>-0.005123</td>\n",
       "      <td>-0.004581</td>\n",
       "      <td>0.269190</td>\n",
       "    </tr>\n",
       "    <tr>\n",
       "      <th>pressure</th>\n",
       "      <td>-0.237231</td>\n",
       "      <td>-0.270358</td>\n",
       "      <td>0.061090</td>\n",
       "      <td>-0.005123</td>\n",
       "      <td>1.000000</td>\n",
       "      <td>-0.049065</td>\n",
       "      <td>-0.228362</td>\n",
       "    </tr>\n",
       "    <tr>\n",
       "      <th>wind_speed</th>\n",
       "      <td>0.167561</td>\n",
       "      <td>0.078688</td>\n",
       "      <td>-0.080654</td>\n",
       "      <td>-0.004581</td>\n",
       "      <td>-0.049065</td>\n",
       "      <td>1.000000</td>\n",
       "      <td>0.071793</td>\n",
       "    </tr>\n",
       "    <tr>\n",
       "      <th>cloudiness</th>\n",
       "      <td>0.084798</td>\n",
       "      <td>0.050028</td>\n",
       "      <td>-0.136033</td>\n",
       "      <td>0.269190</td>\n",
       "      <td>-0.228362</td>\n",
       "      <td>0.071793</td>\n",
       "      <td>1.000000</td>\n",
       "    </tr>\n",
       "  </tbody>\n",
       "</table>\n",
       "</div>"
      ],
      "text/plain": [
       "             latitude  longitude  temperature  humidity  pressure  wind_speed  \\\n",
       "latitude     1.000000  -0.015512    -0.864766  0.208493 -0.237231    0.167561   \n",
       "longitude   -0.015512   1.000000     0.195760 -0.204416 -0.270358    0.078688   \n",
       "temperature -0.864766   0.195760     1.000000 -0.488433  0.061090   -0.080654   \n",
       "humidity     0.208493  -0.204416    -0.488433  1.000000 -0.005123   -0.004581   \n",
       "pressure    -0.237231  -0.270358     0.061090 -0.005123  1.000000   -0.049065   \n",
       "wind_speed   0.167561   0.078688    -0.080654 -0.004581 -0.049065    1.000000   \n",
       "cloudiness   0.084798   0.050028    -0.136033  0.269190 -0.228362    0.071793   \n",
       "\n",
       "             cloudiness  \n",
       "latitude       0.084798  \n",
       "longitude      0.050028  \n",
       "temperature   -0.136033  \n",
       "humidity       0.269190  \n",
       "pressure      -0.228362  \n",
       "wind_speed     0.071793  \n",
       "cloudiness     1.000000  "
      ]
     },
     "execution_count": 37,
     "metadata": {},
     "output_type": "execute_result"
    }
   ],
   "source": [
    "north_corrs = df_north.corr()\n",
    "north_corrs"
   ]
  },
  {
   "cell_type": "code",
   "execution_count": 39,
   "metadata": {},
   "outputs": [
    {
     "data": {
      "text/plain": [
       "<matplotlib.axes._subplots.AxesSubplot at 0x1ac8da522c8>"
      ]
     },
     "execution_count": 39,
     "metadata": {},
     "output_type": "execute_result"
    },
    {
     "data": {
      "image/png": "[encoded data removed]",
      "text/plain": [
       "<Figure size 432x288 with 2 Axes>"
      ]
     },
     "metadata": {
      "needs_background": "light"
     },
     "output_type": "display_data"
    }
   ],
   "source": [
    "sn.heatmap(north_corrs)"
   ]
  },
  {
   "cell_type": "code",
   "execution_count": 38,
   "metadata": {},
   "outputs": [
    {
     "data": {
      "text/html": [
       "<div>\n",
       "<style scoped>\n",
       "    .dataframe tbody tr th:only-of-type {\n",
       "        vertical-align: middle;\n",
       "    }\n",
       "\n",
       "    .dataframe tbody tr th {\n",
       "        vertical-align: top;\n",
       "    }\n",
       "\n",
       "    .dataframe thead th {\n",
       "        text-align: right;\n",
       "    }\n",
       "</style>\n",
       "<table border=\"1\" class=\"dataframe\">\n",
       "  <thead>\n",
       "    <tr style=\"text-align: right;\">\n",
       "      <th></th>\n",
       "      <th>latitude</th>\n",
       "      <th>longitude</th>\n",
       "      <th>temperature</th>\n",
       "      <th>humidity</th>\n",
       "      <th>pressure</th>\n",
       "      <th>wind_speed</th>\n",
       "      <th>cloudiness</th>\n",
       "    </tr>\n",
       "  </thead>\n",
       "  <tbody>\n",
       "    <tr>\n",
       "      <th>latitude</th>\n",
       "      <td>1.000000</td>\n",
       "      <td>-0.132440</td>\n",
       "      <td>0.665402</td>\n",
       "      <td>0.093859</td>\n",
       "      <td>-0.202880</td>\n",
       "      <td>-0.133613</td>\n",
       "      <td>0.111151</td>\n",
       "    </tr>\n",
       "    <tr>\n",
       "      <th>longitude</th>\n",
       "      <td>-0.132440</td>\n",
       "      <td>1.000000</td>\n",
       "      <td>0.214337</td>\n",
       "      <td>-0.381119</td>\n",
       "      <td>-0.033675</td>\n",
       "      <td>0.274999</td>\n",
       "      <td>0.096610</td>\n",
       "    </tr>\n",
       "    <tr>\n",
       "      <th>temperature</th>\n",
       "      <td>0.665402</td>\n",
       "      <td>0.214337</td>\n",
       "      <td>1.000000</td>\n",
       "      <td>-0.164131</td>\n",
       "      <td>-0.317694</td>\n",
       "      <td>0.202751</td>\n",
       "      <td>0.039025</td>\n",
       "    </tr>\n",
       "    <tr>\n",
       "      <th>humidity</th>\n",
       "      <td>0.093859</td>\n",
       "      <td>-0.381119</td>\n",
       "      <td>-0.164131</td>\n",
       "      <td>1.000000</td>\n",
       "      <td>-0.156152</td>\n",
       "      <td>-0.248246</td>\n",
       "      <td>0.190395</td>\n",
       "    </tr>\n",
       "    <tr>\n",
       "      <th>pressure</th>\n",
       "      <td>-0.202880</td>\n",
       "      <td>-0.033675</td>\n",
       "      <td>-0.317694</td>\n",
       "      <td>-0.156152</td>\n",
       "      <td>1.000000</td>\n",
       "      <td>0.054694</td>\n",
       "      <td>-0.230996</td>\n",
       "    </tr>\n",
       "    <tr>\n",
       "      <th>wind_speed</th>\n",
       "      <td>-0.133613</td>\n",
       "      <td>0.274999</td>\n",
       "      <td>0.202751</td>\n",
       "      <td>-0.248246</td>\n",
       "      <td>0.054694</td>\n",
       "      <td>1.000000</td>\n",
       "      <td>-0.107965</td>\n",
       "    </tr>\n",
       "    <tr>\n",
       "      <th>cloudiness</th>\n",
       "      <td>0.111151</td>\n",
       "      <td>0.096610</td>\n",
       "      <td>0.039025</td>\n",
       "      <td>0.190395</td>\n",
       "      <td>-0.230996</td>\n",
       "      <td>-0.107965</td>\n",
       "      <td>1.000000</td>\n",
       "    </tr>\n",
       "  </tbody>\n",
       "</table>\n",
       "</div>"
      ],
      "text/plain": [
       "             latitude  longitude  temperature  humidity  pressure  wind_speed  \\\n",
       "latitude     1.000000  -0.132440     0.665402  0.093859 -0.202880   -0.133613   \n",
       "longitude   -0.132440   1.000000     0.214337 -0.381119 -0.033675    0.274999   \n",
       "temperature  0.665402   0.214337     1.000000 -0.164131 -0.317694    0.202751   \n",
       "humidity     0.093859  -0.381119    -0.164131  1.000000 -0.156152   -0.248246   \n",
       "pressure    -0.202880  -0.033675    -0.317694 -0.156152  1.000000    0.054694   \n",
       "wind_speed  -0.133613   0.274999     0.202751 -0.248246  0.054694    1.000000   \n",
       "cloudiness   0.111151   0.096610     0.039025  0.190395 -0.230996   -0.107965   \n",
       "\n",
       "             cloudiness  \n",
       "latitude       0.111151  \n",
       "longitude      0.096610  \n",
       "temperature    0.039025  \n",
       "humidity       0.190395  \n",
       "pressure      -0.230996  \n",
       "wind_speed    -0.107965  \n",
       "cloudiness     1.000000  "
      ]
     },
     "execution_count": 38,
     "metadata": {},
     "output_type": "execute_result"
    }
   ],
   "source": [
    "south_corrs = df_south.corr()\n",
    "south_corrs"
   ]
  },
  {
   "cell_type": "code",
   "execution_count": 40,
   "metadata": {},
   "outputs": [
    {
     "data": {
      "text/plain": [
       "<matplotlib.axes._subplots.AxesSubplot at 0x1ac8db19f08>"
      ]
     },
     "execution_count": 40,
     "metadata": {},
     "output_type": "execute_result"
    },
    {
     "data": {
      "image/png": "[encoded data removed]",
      "text/plain": [
       "<Figure size 432x288 with 2 Axes>"
      ]
     },
     "metadata": {
      "needs_background": "light"
     },
     "output_type": "display_data"
    }
   ],
   "source": [
    "sn.heatmap(south_corrs)"
   ]
  },
  {
   "cell_type": "markdown",
   "metadata": {},
   "source": [
    "####  Northern Hemisphere - Max Temp vs. Latitude Linear Regression"
   ]
  },
  {
   "cell_type": "code",
   "execution_count": 60,
   "metadata": {},
   "outputs": [
    {
     "name": "stdout",
     "output_type": "stream",
     "text": [
      "The r-squared is: 0.7478198324027903\n"
     ]
    },
    {
     "data": {
      "image/png": "[encoded data removed]",
      "text/plain": [
       "<Figure size 432x288 with 1 Axes>"
      ]
     },
     "metadata": {
      "needs_background": "light"
     },
     "output_type": "display_data"
    }
   ],
   "source": [
    "x_values = df_north[\"latitude\"]\n",
    "y_values = df_north[\"temperature\"]\n",
    "(slope, intercept, rvalue, pvalue, stderr) = linregress(x_values, y_values)\n",
    "regress_values = x_values * slope + intercept\n",
    "line_eq = \"y = \" + str(round(slope,2)) + \"x + \" + str(round(intercept,2))\n",
    "plt.scatter(x_values,y_values, color=\"green\")\n",
    "plt.plot(x_values,regress_values,\"r-\", color=\"orange\")\n",
    "plt.annotate(line_eq,(6,10),fontsize=15,color=\"orange\")\n",
    "plt.xlabel(\"Latitude\")\n",
    "plt.ylabel(\"Temperature\")\n",
    "plt.title(\"Temperature vs Latitude North\", fontsize=18, fontweight=\"bold\")\n",
    "print(f\"The r-squared is: {rvalue**2}\")\n",
    "plt.show()"
   ]
  },
  {
   "cell_type": "markdown",
   "metadata": {},
   "source": [
    "####  Southern Hemisphere - Max Temp vs. Latitude Linear Regression"
   ]
  },
  {
   "cell_type": "code",
   "execution_count": 61,
   "metadata": {},
   "outputs": [
    {
     "name": "stdout",
     "output_type": "stream",
     "text": [
      "The r-squared is: 0.4427591691270394\n"
     ]
    },
    {
     "data": {
      "image/png": "[encoded data removed]",
      "text/plain": [
       "<Figure size 432x288 with 1 Axes>"
      ]
     },
     "metadata": {
      "needs_background": "light"
     },
     "output_type": "display_data"
    }
   ],
   "source": [
    "x_values = df_south[\"latitude\"]\n",
    "y_values = df_south[\"temperature\"]\n",
    "(slope, intercept, rvalue, pvalue, stderr) = linregress(x_values, y_values)\n",
    "regress_values = x_values * slope + intercept\n",
    "line_eq = \"y = \" + str(round(slope,2)) + \"x + \" + str(round(intercept,2))\n",
    "plt.scatter(x_values,y_values, color=\"green\")\n",
    "plt.plot(x_values,regress_values,\"r-\", color=\"orange\")\n",
    "plt.annotate(line_eq,(6,10),fontsize=15,color=\"orange\")\n",
    "plt.xlabel(\"Latitude\")\n",
    "plt.ylabel(\"Temperature\")\n",
    "plt.title(\"Temperature vs Latitude South\", fontsize=18, fontweight=\"bold\")\n",
    "print(f\"The r-squared is: {rvalue**2}\")\n",
    "plt.show()"
   ]
  },
  {
   "cell_type": "markdown",
   "metadata": {},
   "source": [
    "####  Northern Hemisphere - Humidity (%) vs. Latitude Linear Regression"
   ]
  },
  {
   "cell_type": "code",
   "execution_count": 62,
   "metadata": {},
   "outputs": [
    {
     "name": "stdout",
     "output_type": "stream",
     "text": [
      "The r-squared is: 0.04346922083313123\n"
     ]
    },
    {
     "data": {
      "image/png": "[encoded data removed]",
      "text/plain": [
       "<Figure size 432x288 with 1 Axes>"
      ]
     },
     "metadata": {
      "needs_background": "light"
     },
     "output_type": "display_data"
    }
   ],
   "source": [
    "x_values = df_north[\"latitude\"]\n",
    "y_values = df_north[\"humidity\"]\n",
    "(slope, intercept, rvalue, pvalue, stderr) = linregress(x_values, y_values)\n",
    "regress_values = x_values * slope + intercept\n",
    "line_eq = \"y = \" + str(round(slope,2)) + \"x + \" + str(round(intercept,2))\n",
    "plt.scatter(x_values,y_values, color=\"green\")\n",
    "plt.plot(x_values,regress_values,\"r-\", color=\"orange\")\n",
    "plt.annotate(line_eq,(6,10),fontsize=15,color=\"orange\")\n",
    "plt.xlabel(\"Latitude\")\n",
    "plt.ylabel(\"Humidity\")\n",
    "plt.title(\"Humidity vs Latitude North\", fontsize=18, fontweight=\"bold\")\n",
    "print(f\"The r-squared is: {rvalue**2}\")\n",
    "plt.show()"
   ]
  },
  {
   "cell_type": "markdown",
   "metadata": {},
   "source": [
    "####  Southern Hemisphere - Humidity (%) vs. Latitude Linear Regression"
   ]
  },
  {
   "cell_type": "code",
   "execution_count": 63,
   "metadata": {},
   "outputs": [
    {
     "name": "stdout",
     "output_type": "stream",
     "text": [
      "The r-squared is: 0.008809515878679227\n"
     ]
    },
    {
     "data": {
      "image/png": "[encoded data removed]",
      "text/plain": [
       "<Figure size 432x288 with 1 Axes>"
      ]
     },
     "metadata": {
      "needs_background": "light"
     },
     "output_type": "display_data"
    }
   ],
   "source": [
    "x_values = df_south[\"latitude\"]\n",
    "y_values = df_south[\"humidity\"]\n",
    "(slope, intercept, rvalue, pvalue, stderr) = linregress(x_values, y_values)\n",
    "regress_values = x_values * slope + intercept\n",
    "line_eq = \"y = \" + str(round(slope,2)) + \"x + \" + str(round(intercept,2))\n",
    "plt.scatter(x_values,y_values, color=\"green\")\n",
    "plt.plot(x_values,regress_values,\"r-\", color=\"orange\")\n",
    "plt.annotate(line_eq,(6,10),fontsize=15,color=\"orange\")\n",
    "plt.xlabel(\"Latitude\")\n",
    "plt.ylabel(\"Humidity\")\n",
    "plt.title(\"Humidity vs Latitude South\", fontsize=18, fontweight=\"bold\")\n",
    "print(f\"The r-squared is: {rvalue**2}\")\n",
    "plt.show()"
   ]
  },
  {
   "cell_type": "markdown",
   "metadata": {},
   "source": [
    "####  Northern Hemisphere - Cloudiness (%) vs. Latitude Linear Regression"
   ]
  },
  {
   "cell_type": "code",
   "execution_count": 64,
   "metadata": {},
   "outputs": [
    {
     "name": "stdout",
     "output_type": "stream",
     "text": [
      "The r-squared is: 0.007190750046366299\n"
     ]
    },
    {
     "data": {
      "image/png": "[encoded data removed]",
      "text/plain": [
       "<Figure size 432x288 with 1 Axes>"
      ]
     },
     "metadata": {
      "needs_background": "light"
     },
     "output_type": "display_data"
    }
   ],
   "source": [
    "x_values = df_north[\"latitude\"]\n",
    "y_values = df_north[\"cloudiness\"]\n",
    "(slope, intercept, rvalue, pvalue, stderr) = linregress(x_values, y_values)\n",
    "regress_values = x_values * slope + intercept\n",
    "line_eq = \"y = \" + str(round(slope,2)) + \"x + \" + str(round(intercept,2))\n",
    "plt.scatter(x_values,y_values, color=\"green\")\n",
    "plt.plot(x_values,regress_values,\"r-\", color=\"orange\")\n",
    "plt.annotate(line_eq,(6,10),fontsize=15,color=\"orange\")\n",
    "plt.xlabel(\"Latitude\")\n",
    "plt.ylabel(\"Cloudiness\")\n",
    "plt.title(\"Cloudiness vs Latitude North\", fontsize=18, fontweight=\"bold\")\n",
    "print(f\"The r-squared is: {rvalue**2}\")\n",
    "plt.show()"
   ]
  },
  {
   "cell_type": "markdown",
   "metadata": {},
   "source": [
    "####  Southern Hemisphere - Cloudiness (%) vs. Latitude Linear Regression"
   ]
  },
  {
   "cell_type": "code",
   "execution_count": 65,
   "metadata": {},
   "outputs": [
    {
     "name": "stdout",
     "output_type": "stream",
     "text": [
      "The r-squared is: 0.012354644101641143\n"
     ]
    },
    {
     "data": {
      "image/png": "[encoded data removed]",
      "text/plain": [
       "<Figure size 432x288 with 1 Axes>"
      ]
     },
     "metadata": {
      "needs_background": "light"
     },
     "output_type": "display_data"
    }
   ],
   "source": [
    "x_values = df_south[\"latitude\"]\n",
    "y_values = df_south[\"cloudiness\"]\n",
    "(slope, intercept, rvalue, pvalue, stderr) = linregress(x_values, y_values)\n",
    "regress_values = x_values * slope + intercept\n",
    "line_eq = \"y = \" + str(round(slope,2)) + \"x + \" + str(round(intercept,2))\n",
    "plt.scatter(x_values,y_values, color=\"green\")\n",
    "plt.plot(x_values,regress_values,\"r-\", color=\"orange\")\n",
    "plt.annotate(line_eq,(6,10),fontsize=15,color=\"orange\")\n",
    "plt.xlabel(\"Latitude\")\n",
    "plt.ylabel(\"Cloudiness\")\n",
    "plt.title(\"Cloudiness vs Latitude South\", fontsize=18, fontweight=\"bold\")\n",
    "print(f\"The r-squared is: {rvalue**2}\")\n",
    "plt.show()"
   ]
  },
  {
   "cell_type": "markdown",
   "metadata": {},
   "source": [
    "####  Northern Hemisphere - Wind Speed (mph) vs. Latitude Linear Regression"
   ]
  },
  {
   "cell_type": "code",
   "execution_count": 66,
   "metadata": {},
   "outputs": [
    {
     "name": "stdout",
     "output_type": "stream",
     "text": [
      "The r-squared is: 0.028076600346340054\n"
     ]
    },
    {
     "data": {
      "image/png": "[encoded data removed]",
      "text/plain": [
       "<Figure size 432x288 with 1 Axes>"
      ]
     },
     "metadata": {
      "needs_background": "light"
     },
     "output_type": "display_data"
    }
   ],
   "source": [
    "x_values = df_north[\"latitude\"]\n",
    "y_values = df_north[\"wind_speed\"]\n",
    "(slope, intercept, rvalue, pvalue, stderr) = linregress(x_values, y_values)\n",
    "regress_values = x_values * slope + intercept\n",
    "line_eq = \"y = \" + str(round(slope,2)) + \"x + \" + str(round(intercept,2))\n",
    "plt.scatter(x_values,y_values, color=\"green\")\n",
    "plt.plot(x_values,regress_values,\"r-\", color=\"orange\")\n",
    "plt.annotate(line_eq,(6,10),fontsize=15,color=\"orange\")\n",
    "plt.xlabel(\"Latitude\")\n",
    "plt.ylabel(\"Wind Speed\")\n",
    "plt.title(\"Wind Speed vs Latitude North\", fontsize=18, fontweight=\"bold\")\n",
    "print(f\"The r-squared is: {rvalue**2}\")\n",
    "plt.show()"
   ]
  },
  {
   "cell_type": "markdown",
   "metadata": {},
   "source": [
    "####  Southern Hemisphere - Wind Speed (mph) vs. Latitude Linear Regression"
   ]
  },
  {
   "cell_type": "code",
   "execution_count": 67,
   "metadata": {},
   "outputs": [
    {
     "name": "stdout",
     "output_type": "stream",
     "text": [
      "The r-squared is: 0.017852419148460155\n"
     ]
    },
    {
     "data": {
      "image/png": "[encoded data removed]",
      "text/plain": [
       "<Figure size 432x288 with 1 Axes>"
      ]
     },
     "metadata": {
      "needs_background": "light"
     },
     "output_type": "display_data"
    }
   ],
   "source": [
    "x_values = df_south[\"latitude\"]\n",
    "y_values = df_south[\"wind_speed\"]\n",
    "(slope, intercept, rvalue, pvalue, stderr) = linregress(x_values, y_values)\n",
    "regress_values = x_values * slope + intercept\n",
    "line_eq = \"y = \" + str(round(slope,2)) + \"x + \" + str(round(intercept,2))\n",
    "plt.scatter(x_values,y_values, color=\"green\")\n",
    "plt.plot(x_values,regress_values,\"r-\", color=\"orange\")\n",
    "plt.annotate(line_eq,(6,10),fontsize=15,color=\"orange\")\n",
    "plt.xlabel(\"Latitude\")\n",
    "plt.ylabel(\"Wind Speed\")\n",
    "plt.title(\"Wind Speed vs Latitude South\", fontsize=18, fontweight=\"bold\")\n",
    "print(f\"The r-squared is: {rvalue**2}\")\n",
    "plt.show()"
   ]
  },
  {
   "cell_type": "code",
   "execution_count": null,
   "metadata": {},
   "outputs": [],
   "source": []
  }
 ],
 "metadata": {
  "anaconda-cloud": {},
  "kernel_info": {
   "name": "python3"
  },
  "kernelspec": {
   "display_name": "Python 3",
   "language": "python",
   "name": "python3"
  },
  "language_info": {
   "codemirror_mode": {
    "name": "ipython",
    "version": 3
   },
   "file_extension": ".py",
   "mimetype": "text/x-python",
   "name": "python",
   "nbconvert_exporter": "python",
   "pygments_lexer": "ipython3",
   "version": "3.8.3"
  },
  "latex_envs": {
   "LaTeX_envs_menu_present": true,
   "autoclose": false,
   "autocomplete": true,
   "bibliofile": "biblio.bib",
   "cite_by": "apalike",
   "current_citInitial": 1,
   "eqLabelWithNumbers": true,
   "eqNumInitial": 1,
   "hotkeys": {
    "equation": "Ctrl-E",
    "itemize": "Ctrl-I"
   },
   "labels_anchors": false,
   "latex_user_defs": false,
   "report_style_numbering": false,
   "user_envs_cfg": false
  },
  "nteract": {
   "version": "0.12.3"
  }
 },
 "nbformat": 4,
 "nbformat_minor": 2
}
